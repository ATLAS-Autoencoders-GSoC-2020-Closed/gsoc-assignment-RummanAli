{
  "nbformat": 4,
  "nbformat_minor": 0,
  "metadata": {
    "colab": {
      "name": "Untitled3.ipynb",
      "provenance": [],
      "authorship_tag": "ABX9TyMwyomR2KNcKuN5cg31KuZT",
      "include_colab_link": true
    },
    "kernelspec": {
      "name": "python3",
      "display_name": "Python 3"
    },
    "accelerator": "GPU"
  },
  "cells": [
    {
      "cell_type": "markdown",
      "metadata": {
        "id": "view-in-github",
        "colab_type": "text"
      },
      "source": [
        "<a href=\"https://colab.research.google.com/github/RummanAli/Rum_69/blob/master/HEPAE_4D.ipynb\" target=\"_parent\"><img src=\"https://colab.research.google.com/assets/colab-badge.svg\" alt=\"Open In Colab\"/></a>"
      ]
    },
    {
      "cell_type": "code",
      "metadata": {
        "id": "-zHcogBtCZXE",
        "colab_type": "code",
        "colab": {}
      },
      "source": [
        "import fastai\n",
        "import torch\n",
        "import torch.nn as nn\n",
        "#import torch.nn.parallel\n",
        "import torch.optim as optim\n",
        "import torch.utils.data\n",
        "import pandas as pd\n",
        "\n",
        "from torch.utils.data import TensorDataset\n",
        "from torch.utils.data import DataLoader\n",
        "\n",
        "\n",
        "\n",
        "from fastai import basic_train, basic_data\n",
        "from fastai.callbacks import ActivationStats\n",
        "import fastai\n",
        "import pickle\n",
        "import matplotlib.pyplot as plt\n",
        "import numpy as np\n"
      ],
      "execution_count": 0,
      "outputs": []
    },
    {
      "cell_type": "code",
      "metadata": {
        "id": "CPNCw7bRHvuo",
        "colab_type": "code",
        "colab": {}
      },
      "source": [
        "class AE_3D_200(nn.Module):\n",
        "    def __init__(self, n_features=4):\n",
        "        super(AE_3D_200, self).__init__()\n",
        "        self.en1 = nn.Linear(n_features, 200)\n",
        "        self.en2 = nn.Linear(200, 100)\n",
        "        self.en3 = nn.Linear(100, 50)\n",
        "        self.en4 = nn.Linear(50, 3)\n",
        "        self.de1 = nn.Linear(3, 50)\n",
        "        self.de2 = nn.Linear(50, 100)\n",
        "        self.de3 = nn.Linear(100, 200)\n",
        "        self.de4 = nn.Linear(200, n_features)\n",
        "        self.tanh = nn.Tanh()\n",
        "\n",
        "    def encode(self, x):\n",
        "        return self.en4(self.tanh(self.en3(self.tanh(self.en2(self.tanh(self.en1(x)))))))\n",
        "\n",
        "    def decode(self, x):\n",
        "        return self.de4(self.tanh(self.de3(self.tanh(self.de2(self.tanh(self.de1(self.tanh(x))))))))\n",
        "\n",
        "    def forward(self, x):\n",
        "        z = self.encode(x)\n",
        "        return self.decode(z)\n",
        "\n",
        "    def describe(self):\n",
        "        return 'in-200-100-50-3-50-100-200-out'\n",
        "\n"
      ],
      "execution_count": 0,
      "outputs": []
    },
    {
      "cell_type": "code",
      "metadata": {
        "id": "BC8mkM3BO1Eg",
        "colab_type": "code",
        "colab": {}
      },
      "source": [
        "train = pd.read_pickle('/content/all_jets_train_4D_100_percent.pkl')\n",
        "test = pd.read_pickle('/content/all_jets_test_4D_100_percent.pkl')"
      ],
      "execution_count": 0,
      "outputs": []
    },
    {
      "cell_type": "code",
      "metadata": {
        "id": "7z6rwVW4DNag",
        "colab_type": "code",
        "outputId": "8cb4f832-8611-4a5b-f62d-e8a581492580",
        "colab": {
          "base_uri": "https://localhost:8080/",
          "height": 34
        }
      },
      "source": [
        "loss_func = nn.MSELoss()\n",
        "model = AE_3D_200()\n",
        "n_features = len(train.loc[0])\n",
        "print(n_features)\n"
      ],
      "execution_count": 0,
      "outputs": [
        {
          "output_type": "stream",
          "text": [
            "4\n"
          ],
          "name": "stdout"
        }
      ]
    },
    {
      "cell_type": "code",
      "metadata": {
        "id": "vKsQjllsv2ow",
        "colab_type": "code",
        "outputId": "ca2769d3-428d-45d2-d33f-90063469cf83",
        "colab": {
          "base_uri": "https://localhost:8080/",
          "height": 34
        }
      },
      "source": [
        "test.shape"
      ],
      "execution_count": 0,
      "outputs": [
        {
          "output_type": "execute_result",
          "data": {
            "text/plain": [
              "(27945, 4)"
            ]
          },
          "metadata": {
            "tags": []
          },
          "execution_count": 10
        }
      ]
    },
    {
      "cell_type": "code",
      "metadata": {
        "id": "EZyEjU6-bwAv",
        "colab_type": "code",
        "colab": {}
      },
      "source": [
        "train_mean = train.mean()\n",
        "train_std = train.std()\n",
        "\n",
        "train = (train - train_mean) / train_std\n",
        "test = (test - train_mean) / train_std\n",
        "\n",
        "train_x = train\n",
        "test_x = test\n",
        "train_y = train_x  # y = x since we are building and AE\n",
        "test_y = test_x\n",
        "\n",
        "train_ds = TensorDataset(torch.tensor(train_x.values).float(), torch.tensor(train_y.values).float())\n",
        "valid_ds = TensorDataset(torch.tensor(test_x.values).float(), torch.tensor(test_y.values).float())\n",
        "\n",
        "def get_data(train_ds, valid_ds, bs):\n",
        "    return (\n",
        "        DataLoader(train_ds, batch_size=bs, shuffle=True),\n",
        "        DataLoader(valid_ds, batch_size=bs * 2),\n",
        "    )\n",
        "\n",
        "train_dl, valid_dl = get_data(train_ds, valid_ds, bs=256)\n",
        "\n",
        "db = basic_data.DataBunch(train_dl, valid_dl)\n"
      ],
      "execution_count": 0,
      "outputs": []
    },
    {
      "cell_type": "code",
      "metadata": {
        "id": "RonPq66kb3kH",
        "colab_type": "code",
        "colab": {}
      },
      "source": [
        "bn_wd = False  # Don't use weight decay fpr batchnorm layers\n",
        "true_wd = True  # wd will be used for all optimizers\n",
        "wd = 1e-6"
      ],
      "execution_count": 0,
      "outputs": []
    },
    {
      "cell_type": "code",
      "metadata": {
        "id": "GKeGfbP3Ozev",
        "colab_type": "code",
        "colab": {}
      },
      "source": [
        "learn = basic_train.Learner(data=db, model=model, loss_func=loss_func, wd=wd, callback_fns=ActivationStats, bn_wd=bn_wd, true_wd=true_wd)"
      ],
      "execution_count": 0,
      "outputs": []
    },
    {
      "cell_type": "code",
      "metadata": {
        "id": "YF9nzeK32zDp",
        "colab_type": "code",
        "outputId": "a4adceef-5c6a-4f85-e913-4d651fd648bf",
        "colab": {
          "base_uri": "https://localhost:8080/",
          "height": 496
        }
      },
      "source": [
        "learn.load('/content/AE_3D_200_no1cycle_trainforever')"
      ],
      "execution_count": 0,
      "outputs": [
        {
          "output_type": "execute_result",
          "data": {
            "text/plain": [
              "Learner(data=DataBunch;\n",
              "\n",
              "Train: <torch.utils.data.dataset.TensorDataset object at 0x7faa116856a0>;\n",
              "\n",
              "Valid: <torch.utils.data.dataset.TensorDataset object at 0x7faa116916a0>;\n",
              "\n",
              "Test: None, model=AE_3D_200(\n",
              "  (en1): Linear(in_features=4, out_features=200, bias=True)\n",
              "  (en2): Linear(in_features=200, out_features=100, bias=True)\n",
              "  (en3): Linear(in_features=100, out_features=50, bias=True)\n",
              "  (en4): Linear(in_features=50, out_features=3, bias=True)\n",
              "  (de1): Linear(in_features=3, out_features=50, bias=True)\n",
              "  (de2): Linear(in_features=50, out_features=100, bias=True)\n",
              "  (de3): Linear(in_features=100, out_features=200, bias=True)\n",
              "  (de4): Linear(in_features=200, out_features=4, bias=True)\n",
              "  (tanh): Tanh()\n",
              "), opt_func=functools.partial(<class 'torch.optim.adam.Adam'>, betas=(0.9, 0.99)), loss_func=MSELoss(), metrics=[], true_wd=True, bn_wd=False, wd=1e-06, train_bn=True, path=PosixPath('.'), model_dir='models', callback_fns=[functools.partial(<class 'fastai.basic_train.Recorder'>, add_time=True, silent=False), <class 'fastai.callbacks.hooks.ActivationStats'>], callbacks=[], layer_groups=[Sequential(\n",
              "  (0): Linear(in_features=4, out_features=200, bias=True)\n",
              "  (1): Linear(in_features=200, out_features=100, bias=True)\n",
              "  (2): Linear(in_features=100, out_features=50, bias=True)\n",
              "  (3): Linear(in_features=50, out_features=3, bias=True)\n",
              "  (4): Linear(in_features=3, out_features=50, bias=True)\n",
              "  (5): Linear(in_features=50, out_features=100, bias=True)\n",
              "  (6): Linear(in_features=100, out_features=200, bias=True)\n",
              "  (7): Linear(in_features=200, out_features=4, bias=True)\n",
              "  (8): Tanh()\n",
              ")], add_time=True, silent=False)"
            ]
          },
          "metadata": {
            "tags": []
          },
          "execution_count": 15
        }
      ]
    },
    {
      "cell_type": "code",
      "metadata": {
        "id": "ZXhJ1sCK3HmP",
        "colab_type": "code",
        "outputId": "b263c417-4c07-4e5e-e72b-dae8b1bf6424",
        "colab": {
          "base_uri": "https://localhost:8080/",
          "height": 34
        }
      },
      "source": [
        "learn.validate()"
      ],
      "execution_count": 0,
      "outputs": [
        {
          "output_type": "display_data",
          "data": {
            "text/html": [
              ""
            ],
            "text/plain": [
              "<IPython.core.display.HTML object>"
            ]
          },
          "metadata": {
            "tags": []
          }
        },
        {
          "output_type": "execute_result",
          "data": {
            "text/plain": [
              "[0.5058878]"
            ]
          },
          "metadata": {
            "tags": []
          },
          "execution_count": 16
        }
      ]
    },
    {
      "cell_type": "code",
      "metadata": {
        "id": "xyx5ucmE6bEi",
        "colab_type": "code",
        "colab": {}
      },
      "source": [
        "idxs = (0, 100000)"
      ],
      "execution_count": 0,
      "outputs": []
    },
    {
      "cell_type": "code",
      "metadata": {
        "id": "XeB1Aip4Ihb_",
        "colab_type": "code",
        "outputId": "726191e5-85ec-46e5-93a9-eb906863b1ef",
        "colab": {
          "base_uri": "https://localhost:8080/",
          "height": 34
        }
      },
      "source": [
        "idxs[1]"
      ],
      "execution_count": 0,
      "outputs": [
        {
          "output_type": "execute_result",
          "data": {
            "text/plain": [
              "100000"
            ]
          },
          "metadata": {
            "tags": []
          },
          "execution_count": 19
        }
      ]
    },
    {
      "cell_type": "code",
      "metadata": {
        "id": "qg0yjk11Ii4s",
        "colab_type": "code",
        "colab": {}
      },
      "source": [
        "data = torch.tensor(test_x[idxs[0]:idxs[1]].values).float()"
      ],
      "execution_count": 0,
      "outputs": []
    },
    {
      "cell_type": "code",
      "metadata": {
        "id": "uTML5-vyJsnX",
        "colab_type": "code",
        "outputId": "f5dfe58f-a55b-421f-c692-cc5533ffbe0f",
        "colab": {
          "base_uri": "https://localhost:8080/",
          "height": 34
        }
      },
      "source": [
        "data.shape"
      ],
      "execution_count": 0,
      "outputs": [
        {
          "output_type": "execute_result",
          "data": {
            "text/plain": [
              "torch.Size([27945, 4])"
            ]
          },
          "metadata": {
            "tags": []
          },
          "execution_count": 25
        }
      ]
    },
    {
      "cell_type": "code",
      "metadata": {
        "id": "WPgwzpMkJtwJ",
        "colab_type": "code",
        "outputId": "fa9313fd-b3b5-4aa0-ae85-df2362d2fdd9",
        "colab": {
          "base_uri": "https://localhost:8080/",
          "height": 34
        }
      },
      "source": [
        "train_mean.values"
      ],
      "execution_count": 0,
      "outputs": [
        {
          "output_type": "execute_result",
          "data": {
            "text/plain": [
              "array([8.941357e+03, 6.445868e+04, 1.691170e-03, 4.350001e-02])"
            ]
          },
          "metadata": {
            "tags": []
          },
          "execution_count": 29
        }
      ]
    },
    {
      "cell_type": "code",
      "metadata": {
        "id": "WtQ13uIFLVn1",
        "colab_type": "code",
        "outputId": "1399f13d-da34-4335-c695-a63846075038",
        "colab": {
          "base_uri": "https://localhost:8080/",
          "height": 1000
        }
      },
      "source": [
        "\n",
        "plt.close('all')\n",
        "unit_list = ['[GeV]', '[rad]', '[rad]', '[GeV]']\n",
        "variable_list = [r'$m$', r'$p_T$', r'$\\phi$', r'$\\eta$']\n",
        "line_style = ['--', '-']\n",
        "colors = ['orange', 'c']\n",
        "markers = ['*', 's']\n",
        "\n",
        "model.to('cpu')\n",
        "\n",
        "# Histograms\n",
        "idxs = (0, 100000)  # Choose events to compare\n",
        "data = torch.tensor(test_x[idxs[0]:idxs[1]].values).float()\n",
        "pred = model(data).detach().numpy()\n",
        "pred = np.multiply(pred, train_std.values)\n",
        "pred = np.add(pred, train_mean.values)\n",
        "data = np.multiply(data, train_std.values)\n",
        "data = np.add(data, train_mean.values)\n",
        "\n",
        "alph = 0.8\n",
        "n_bins = 50\n",
        "for kk in np.arange(4):\n",
        "    plt.figure(kk + 4)\n",
        "    n_hist_data, bin_edges, _ = plt.hist(data[:, kk], color=colors[1], label='Input', alpha=1, bins=n_bins)\n",
        "    n_hist_pred, _, _ = plt.hist(pred[:, kk], color=colors[0], label='Output', alpha=alph, bins=bin_edges)\n",
        "    plt.suptitle(train_x.columns[kk])\n",
        "    plt.xlabel(variable_list[kk] + ' ' + unit_list[kk])\n",
        "    plt.ylabel('Number of events')\n",
        "    #ms.sciy()\n",
        "    # plt.yscale('log')\n",
        "    plt.legend()\n",
        "    fig_name = 'trainforever_hist_%s' % train.columns[kk]\n",
        "    #plt.savefig(curr_save_folder + fig_name)"
      ],
      "execution_count": 0,
      "outputs": [
        {
          "output_type": "display_data",
          "data": {
            "image/png": "[encoded data removed]",
            "text/plain": [
              "<Figure size 432x288 with 1 Axes>"
            ]
          },
          "metadata": {
            "tags": []
          }
        },
        {
          "output_type": "display_data",
          "data": {
            "image/png": "[encoded data removed]",
            "text/plain": [
              "<Figure size 432x288 with 1 Axes>"
            ]
          },
          "metadata": {
            "tags": []
          }
        },
        {
          "output_type": "display_data",
          "data": {
            "image/png": "[encoded data removed]",
            "text/plain": [
              "<Figure size 432x288 with 1 Axes>"
            ]
          },
          "metadata": {
            "tags": []
          }
        },
        {
          "output_type": "display_data",
          "data": {
            "image/png": "[encoded data removed]",
            "text/plain": [
              "<Figure size 432x288 with 1 Axes>"
            ]
          },
          "metadata": {
            "tags": []
          }
        }
      ]
    },
    {
      "cell_type": "code",
      "metadata": {
        "id": "k834DTtiQzN5",
        "colab_type": "code",
        "colab": {}
      },
      "source": [
        "plo=np.divide(np.subtract(data,pred),data)"
      ],
      "execution_count": 0,
      "outputs": []
    },
    {
      "cell_type": "code",
      "metadata": {
        "id": "WSHfvahBevoV",
        "colab_type": "code",
        "outputId": "799f758b-71cb-4d87-8ea0-be4472c3922f",
        "colab": {
          "base_uri": "https://localhost:8080/",
          "height": 34
        }
      },
      "source": [
        "plo.shape"
      ],
      "execution_count": 0,
      "outputs": [
        {
          "output_type": "execute_result",
          "data": {
            "text/plain": [
              "torch.Size([27945, 4])"
            ]
          },
          "metadata": {
            "tags": []
          },
          "execution_count": 40
        }
      ]
    },
    {
      "cell_type": "code",
      "metadata": {
        "id": "wNhoaREUfK10",
        "colab_type": "code",
        "outputId": "dbd11b4c-b100-4935-b0ce-5fedab04cd4a",
        "colab": {
          "base_uri": "https://localhost:8080/",
          "height": 51
        }
      },
      "source": [
        "data[0]"
      ],
      "execution_count": 0,
      "outputs": [
        {
          "output_type": "execute_result",
          "data": {
            "text/plain": [
              "tensor([ 4.9837e+03,  2.3798e+04,  1.9622e+00, -5.9532e-02],\n",
              "       dtype=torch.float64)"
            ]
          },
          "metadata": {
            "tags": []
          },
          "execution_count": 45
        }
      ]
    },
    {
      "cell_type": "code",
      "metadata": {
        "id": "VvwpyPOefiy0",
        "colab_type": "code",
        "outputId": "aa84d9ed-0a9f-446d-e699-66174bfb433d",
        "colab": {
          "base_uri": "https://localhost:8080/",
          "height": 34
        }
      },
      "source": [
        "plo[0]"
      ],
      "execution_count": 0,
      "outputs": [
        {
          "output_type": "execute_result",
          "data": {
            "text/plain": [
              "tensor([ -0.1926,   0.1963,   0.0322, -11.5400], dtype=torch.float64)"
            ]
          },
          "metadata": {
            "tags": []
          },
          "execution_count": 46
        }
      ]
    },
    {
      "cell_type": "code",
      "metadata": {
        "id": "WAOjXZmzcIWe",
        "colab_type": "code",
        "outputId": "aeb8578f-3bee-4c0a-e6b0-d501ea323311",
        "colab": {
          "base_uri": "https://localhost:8080/",
          "height": 1000
        }
      },
      "source": [
        "for i in np.arange(4):\n",
        "  plt.figure(i)\n",
        "  plt.plot(data[:,i],plo[:,i],'ro')"
      ],
      "execution_count": 0,
      "outputs": [
        {
          "output_type": "display_data",
          "data": {
            "image/png": "[encoded data removed]",
            "text/plain": [
              "<Figure size 432x288 with 1 Axes>"
            ]
          },
          "metadata": {
            "tags": []
          }
        },
        {
          "output_type": "display_data",
          "data": {
            "image/png": "[encoded data removed]",
            "text/plain": [
              "<Figure size 432x288 with 1 Axes>"
            ]
          },
          "metadata": {
            "tags": []
          }
        },
        {
          "output_type": "display_data",
          "data": {
            "image/png": "[encoded data removed]",
            "text/plain": [
              "<Figure size 432x288 with 1 Axes>"
            ]
          },
          "metadata": {
            "tags": []
          }
        },
        {
          "output_type": "display_data",
          "data": {
            "image/png": "[encoded data removed]",
            "text/plain": [
              "<Figure size 432x288 with 1 Axes>"
            ]
          },
          "metadata": {
            "tags": []
          }
        }
      ]
    },
    {
      "cell_type": "code",
      "metadata": {
        "id": "wJ-A2Jnue4ZQ",
        "colab_type": "code",
        "colab": {}
      },
      "source": [
        ""
      ],
      "execution_count": 0,
      "outputs": []
    }
  ]
}